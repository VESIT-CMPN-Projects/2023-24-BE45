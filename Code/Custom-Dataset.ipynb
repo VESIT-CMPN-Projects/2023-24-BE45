{
  "nbformat": 4,
  "nbformat_minor": 0,
  "metadata": {
    "colab": {
      "provenance": []
    },
    "kernelspec": {
      "name": "python3",
      "display_name": "Python 3"
    },
    "language_info": {
      "name": "python"
    }
  },
  "cells": [
    {
      "cell_type": "code",
      "execution_count": 145,
      "metadata": {
        "id": "2HB6MX6tbm-J"
      },
      "outputs": [],
      "source": [
        "import pandas as pd\n",
        "df=pd.read_csv(\"data-new.csv\")"
      ]
    },
    {
      "cell_type": "code",
      "source": [
        "df.head(6)"
      ],
      "metadata": {
        "id": "sbcjuck0xJNs",
        "outputId": "e782acfa-b113-4a43-bf17-daa56549b4f0",
        "colab": {
          "base_uri": "https://localhost:8080/",
          "height": 289
        }
      },
      "execution_count": 146,
      "outputs": [
        {
          "output_type": "execute_result",
          "data": {
            "text/plain": [
              "   age gender   weight sleeping-patterns exercise-habits  blood-pressure  \\\n",
              "0   22       F      60           regular           active         115/75   \n",
              "1   21       F      51           regular              mid         110/70   \n",
              "2   21       F      53           regular         inactive         120/80   \n",
              "3   21       F      65           regular         inactive         125/80   \n",
              "4   20       F      70         irregular         inactive         130/85   \n",
              "5   30       M      89         irregular         inactive         140/90   \n",
              "\n",
              "   analog-fasting  analog-pp  glucose-fasting  glucose-pp diabetic  \\\n",
              "0             310        315               93         110       no   \n",
              "1             313        319              108         105       no   \n",
              "2             309        317              130         120       no   \n",
              "3             311        312              115         115       no   \n",
              "4             314        317              106         110       no   \n",
              "5             328        333              128         150      yes   \n",
              "\n",
              "      Unnamed: 11  \n",
              "0  simrans sister  \n",
              "1         simran   \n",
              "2          karina  \n",
              "3          roshni  \n",
              "4         sanjana  \n",
              "5    the path guy  "
            ],
            "text/html": [
              "\n",
              "  <div id=\"df-8eeebcfd-13c1-4c3b-bd85-28617b2bad52\" class=\"colab-df-container\">\n",
              "    <div>\n",
              "<style scoped>\n",
              "    .dataframe tbody tr th:only-of-type {\n",
              "        vertical-align: middle;\n",
              "    }\n",
              "\n",
              "    .dataframe tbody tr th {\n",
              "        vertical-align: top;\n",
              "    }\n",
              "\n",
              "    .dataframe thead th {\n",
              "        text-align: right;\n",
              "    }\n",
              "</style>\n",
              "<table border=\"1\" class=\"dataframe\">\n",
              "  <thead>\n",
              "    <tr style=\"text-align: right;\">\n",
              "      <th></th>\n",
              "      <th>age</th>\n",
              "      <th>gender</th>\n",
              "      <th>weight</th>\n",
              "      <th>sleeping-patterns</th>\n",
              "      <th>exercise-habits</th>\n",
              "      <th>blood-pressure</th>\n",
              "      <th>analog-fasting</th>\n",
              "      <th>analog-pp</th>\n",
              "      <th>glucose-fasting</th>\n",
              "      <th>glucose-pp</th>\n",
              "      <th>diabetic</th>\n",
              "      <th>Unnamed: 11</th>\n",
              "    </tr>\n",
              "  </thead>\n",
              "  <tbody>\n",
              "    <tr>\n",
              "      <th>0</th>\n",
              "      <td>22</td>\n",
              "      <td>F</td>\n",
              "      <td>60</td>\n",
              "      <td>regular</td>\n",
              "      <td>active</td>\n",
              "      <td>115/75</td>\n",
              "      <td>310</td>\n",
              "      <td>315</td>\n",
              "      <td>93</td>\n",
              "      <td>110</td>\n",
              "      <td>no</td>\n",
              "      <td>simrans sister</td>\n",
              "    </tr>\n",
              "    <tr>\n",
              "      <th>1</th>\n",
              "      <td>21</td>\n",
              "      <td>F</td>\n",
              "      <td>51</td>\n",
              "      <td>regular</td>\n",
              "      <td>mid</td>\n",
              "      <td>110/70</td>\n",
              "      <td>313</td>\n",
              "      <td>319</td>\n",
              "      <td>108</td>\n",
              "      <td>105</td>\n",
              "      <td>no</td>\n",
              "      <td>simran</td>\n",
              "    </tr>\n",
              "    <tr>\n",
              "      <th>2</th>\n",
              "      <td>21</td>\n",
              "      <td>F</td>\n",
              "      <td>53</td>\n",
              "      <td>regular</td>\n",
              "      <td>inactive</td>\n",
              "      <td>120/80</td>\n",
              "      <td>309</td>\n",
              "      <td>317</td>\n",
              "      <td>130</td>\n",
              "      <td>120</td>\n",
              "      <td>no</td>\n",
              "      <td>karina</td>\n",
              "    </tr>\n",
              "    <tr>\n",
              "      <th>3</th>\n",
              "      <td>21</td>\n",
              "      <td>F</td>\n",
              "      <td>65</td>\n",
              "      <td>regular</td>\n",
              "      <td>inactive</td>\n",
              "      <td>125/80</td>\n",
              "      <td>311</td>\n",
              "      <td>312</td>\n",
              "      <td>115</td>\n",
              "      <td>115</td>\n",
              "      <td>no</td>\n",
              "      <td>roshni</td>\n",
              "    </tr>\n",
              "    <tr>\n",
              "      <th>4</th>\n",
              "      <td>20</td>\n",
              "      <td>F</td>\n",
              "      <td>70</td>\n",
              "      <td>irregular</td>\n",
              "      <td>inactive</td>\n",
              "      <td>130/85</td>\n",
              "      <td>314</td>\n",
              "      <td>317</td>\n",
              "      <td>106</td>\n",
              "      <td>110</td>\n",
              "      <td>no</td>\n",
              "      <td>sanjana</td>\n",
              "    </tr>\n",
              "    <tr>\n",
              "      <th>5</th>\n",
              "      <td>30</td>\n",
              "      <td>M</td>\n",
              "      <td>89</td>\n",
              "      <td>irregular</td>\n",
              "      <td>inactive</td>\n",
              "      <td>140/90</td>\n",
              "      <td>328</td>\n",
              "      <td>333</td>\n",
              "      <td>128</td>\n",
              "      <td>150</td>\n",
              "      <td>yes</td>\n",
              "      <td>the path guy</td>\n",
              "    </tr>\n",
              "  </tbody>\n",
              "</table>\n",
              "</div>\n",
              "    <div class=\"colab-df-buttons\">\n",
              "\n",
              "  <div class=\"colab-df-container\">\n",
              "    <button class=\"colab-df-convert\" onclick=\"convertToInteractive('df-8eeebcfd-13c1-4c3b-bd85-28617b2bad52')\"\n",
              "            title=\"Convert this dataframe to an interactive table.\"\n",
              "            style=\"display:none;\">\n",
              "\n",
              "  <svg xmlns=\"http://www.w3.org/2000/svg\" height=\"24px\" viewBox=\"0 -960 960 960\">\n",
              "    <path d=\"M120-120v-720h720v720H120Zm60-500h600v-160H180v160Zm220 220h160v-160H400v160Zm0 220h160v-160H400v160ZM180-400h160v-160H180v160Zm440 0h160v-160H620v160ZM180-180h160v-160H180v160Zm440 0h160v-160H620v160Z\"/>\n",
              "  </svg>\n",
              "    </button>\n",
              "\n",
              "  <style>\n",
              "    .colab-df-container {\n",
              "      display:flex;\n",
              "      gap: 12px;\n",
              "    }\n",
              "\n",
              "    .colab-df-convert {\n",
              "      background-color: #E8F0FE;\n",
              "      border: none;\n",
              "      border-radius: 50%;\n",
              "      cursor: pointer;\n",
              "      display: none;\n",
              "      fill: #1967D2;\n",
              "      height: 32px;\n",
              "      padding: 0 0 0 0;\n",
              "      width: 32px;\n",
              "    }\n",
              "\n",
              "    .colab-df-convert:hover {\n",
              "      background-color: #E2EBFA;\n",
              "      box-shadow: 0px 1px 2px rgba(60, 64, 67, 0.3), 0px 1px 3px 1px rgba(60, 64, 67, 0.15);\n",
              "      fill: #174EA6;\n",
              "    }\n",
              "\n",
              "    .colab-df-buttons div {\n",
              "      margin-bottom: 4px;\n",
              "    }\n",
              "\n",
              "    [theme=dark] .colab-df-convert {\n",
              "      background-color: #3B4455;\n",
              "      fill: #D2E3FC;\n",
              "    }\n",
              "\n",
              "    [theme=dark] .colab-df-convert:hover {\n",
              "      background-color: #434B5C;\n",
              "      box-shadow: 0px 1px 3px 1px rgba(0, 0, 0, 0.15);\n",
              "      filter: drop-shadow(0px 1px 2px rgba(0, 0, 0, 0.3));\n",
              "      fill: #FFFFFF;\n",
              "    }\n",
              "  </style>\n",
              "\n",
              "    <script>\n",
              "      const buttonEl =\n",
              "        document.querySelector('#df-8eeebcfd-13c1-4c3b-bd85-28617b2bad52 button.colab-df-convert');\n",
              "      buttonEl.style.display =\n",
              "        google.colab.kernel.accessAllowed ? 'block' : 'none';\n",
              "\n",
              "      async function convertToInteractive(key) {\n",
              "        const element = document.querySelector('#df-8eeebcfd-13c1-4c3b-bd85-28617b2bad52');\n",
              "        const dataTable =\n",
              "          await google.colab.kernel.invokeFunction('convertToInteractive',\n",
              "                                                    [key], {});\n",
              "        if (!dataTable) return;\n",
              "\n",
              "        const docLinkHtml = 'Like what you see? Visit the ' +\n",
              "          '<a target=\"_blank\" href=https://colab.research.google.com/notebooks/data_table.ipynb>data table notebook</a>'\n",
              "          + ' to learn more about interactive tables.';\n",
              "        element.innerHTML = '';\n",
              "        dataTable['output_type'] = 'display_data';\n",
              "        await google.colab.output.renderOutput(dataTable, element);\n",
              "        const docLink = document.createElement('div');\n",
              "        docLink.innerHTML = docLinkHtml;\n",
              "        element.appendChild(docLink);\n",
              "      }\n",
              "    </script>\n",
              "  </div>\n",
              "\n",
              "\n",
              "<div id=\"df-4cb74b10-9f2c-4da2-91e9-35b2f2ef609d\">\n",
              "  <button class=\"colab-df-quickchart\" onclick=\"quickchart('df-4cb74b10-9f2c-4da2-91e9-35b2f2ef609d')\"\n",
              "            title=\"Suggest charts\"\n",
              "            style=\"display:none;\">\n",
              "\n",
              "<svg xmlns=\"http://www.w3.org/2000/svg\" height=\"24px\"viewBox=\"0 0 24 24\"\n",
              "     width=\"24px\">\n",
              "    <g>\n",
              "        <path d=\"M19 3H5c-1.1 0-2 .9-2 2v14c0 1.1.9 2 2 2h14c1.1 0 2-.9 2-2V5c0-1.1-.9-2-2-2zM9 17H7v-7h2v7zm4 0h-2V7h2v10zm4 0h-2v-4h2v4z\"/>\n",
              "    </g>\n",
              "</svg>\n",
              "  </button>\n",
              "\n",
              "<style>\n",
              "  .colab-df-quickchart {\n",
              "      --bg-color: #E8F0FE;\n",
              "      --fill-color: #1967D2;\n",
              "      --hover-bg-color: #E2EBFA;\n",
              "      --hover-fill-color: #174EA6;\n",
              "      --disabled-fill-color: #AAA;\n",
              "      --disabled-bg-color: #DDD;\n",
              "  }\n",
              "\n",
              "  [theme=dark] .colab-df-quickchart {\n",
              "      --bg-color: #3B4455;\n",
              "      --fill-color: #D2E3FC;\n",
              "      --hover-bg-color: #434B5C;\n",
              "      --hover-fill-color: #FFFFFF;\n",
              "      --disabled-bg-color: #3B4455;\n",
              "      --disabled-fill-color: #666;\n",
              "  }\n",
              "\n",
              "  .colab-df-quickchart {\n",
              "    background-color: var(--bg-color);\n",
              "    border: none;\n",
              "    border-radius: 50%;\n",
              "    cursor: pointer;\n",
              "    display: none;\n",
              "    fill: var(--fill-color);\n",
              "    height: 32px;\n",
              "    padding: 0;\n",
              "    width: 32px;\n",
              "  }\n",
              "\n",
              "  .colab-df-quickchart:hover {\n",
              "    background-color: var(--hover-bg-color);\n",
              "    box-shadow: 0 1px 2px rgba(60, 64, 67, 0.3), 0 1px 3px 1px rgba(60, 64, 67, 0.15);\n",
              "    fill: var(--button-hover-fill-color);\n",
              "  }\n",
              "\n",
              "  .colab-df-quickchart-complete:disabled,\n",
              "  .colab-df-quickchart-complete:disabled:hover {\n",
              "    background-color: var(--disabled-bg-color);\n",
              "    fill: var(--disabled-fill-color);\n",
              "    box-shadow: none;\n",
              "  }\n",
              "\n",
              "  .colab-df-spinner {\n",
              "    border: 2px solid var(--fill-color);\n",
              "    border-color: transparent;\n",
              "    border-bottom-color: var(--fill-color);\n",
              "    animation:\n",
              "      spin 1s steps(1) infinite;\n",
              "  }\n",
              "\n",
              "  @keyframes spin {\n",
              "    0% {\n",
              "      border-color: transparent;\n",
              "      border-bottom-color: var(--fill-color);\n",
              "      border-left-color: var(--fill-color);\n",
              "    }\n",
              "    20% {\n",
              "      border-color: transparent;\n",
              "      border-left-color: var(--fill-color);\n",
              "      border-top-color: var(--fill-color);\n",
              "    }\n",
              "    30% {\n",
              "      border-color: transparent;\n",
              "      border-left-color: var(--fill-color);\n",
              "      border-top-color: var(--fill-color);\n",
              "      border-right-color: var(--fill-color);\n",
              "    }\n",
              "    40% {\n",
              "      border-color: transparent;\n",
              "      border-right-color: var(--fill-color);\n",
              "      border-top-color: var(--fill-color);\n",
              "    }\n",
              "    60% {\n",
              "      border-color: transparent;\n",
              "      border-right-color: var(--fill-color);\n",
              "    }\n",
              "    80% {\n",
              "      border-color: transparent;\n",
              "      border-right-color: var(--fill-color);\n",
              "      border-bottom-color: var(--fill-color);\n",
              "    }\n",
              "    90% {\n",
              "      border-color: transparent;\n",
              "      border-bottom-color: var(--fill-color);\n",
              "    }\n",
              "  }\n",
              "</style>\n",
              "\n",
              "  <script>\n",
              "    async function quickchart(key) {\n",
              "      const quickchartButtonEl =\n",
              "        document.querySelector('#' + key + ' button');\n",
              "      quickchartButtonEl.disabled = true;  // To prevent multiple clicks.\n",
              "      quickchartButtonEl.classList.add('colab-df-spinner');\n",
              "      try {\n",
              "        const charts = await google.colab.kernel.invokeFunction(\n",
              "            'suggestCharts', [key], {});\n",
              "      } catch (error) {\n",
              "        console.error('Error during call to suggestCharts:', error);\n",
              "      }\n",
              "      quickchartButtonEl.classList.remove('colab-df-spinner');\n",
              "      quickchartButtonEl.classList.add('colab-df-quickchart-complete');\n",
              "    }\n",
              "    (() => {\n",
              "      let quickchartButtonEl =\n",
              "        document.querySelector('#df-4cb74b10-9f2c-4da2-91e9-35b2f2ef609d button');\n",
              "      quickchartButtonEl.style.display =\n",
              "        google.colab.kernel.accessAllowed ? 'block' : 'none';\n",
              "    })();\n",
              "  </script>\n",
              "</div>\n",
              "    </div>\n",
              "  </div>\n"
            ],
            "application/vnd.google.colaboratory.intrinsic+json": {
              "type": "dataframe",
              "variable_name": "df",
              "summary": "{\n  \"name\": \"df\",\n  \"rows\": 6,\n  \"fields\": [\n    {\n      \"column\": \"age\",\n      \"properties\": {\n        \"dtype\": \"number\",\n        \"std\": 3,\n        \"min\": 20,\n        \"max\": 30,\n        \"num_unique_values\": 4,\n        \"samples\": [\n          21,\n          30,\n          22\n        ],\n        \"semantic_type\": \"\",\n        \"description\": \"\"\n      }\n    },\n    {\n      \"column\": \"gender \",\n      \"properties\": {\n        \"dtype\": \"category\",\n        \"num_unique_values\": 2,\n        \"samples\": [\n          \"M\",\n          \"F\"\n        ],\n        \"semantic_type\": \"\",\n        \"description\": \"\"\n      }\n    },\n    {\n      \"column\": \"weight\",\n      \"properties\": {\n        \"dtype\": \"number\",\n        \"std\": 13,\n        \"min\": 51,\n        \"max\": 89,\n        \"num_unique_values\": 6,\n        \"samples\": [\n          60,\n          51\n        ],\n        \"semantic_type\": \"\",\n        \"description\": \"\"\n      }\n    },\n    {\n      \"column\": \"sleeping-patterns\",\n      \"properties\": {\n        \"dtype\": \"category\",\n        \"num_unique_values\": 2,\n        \"samples\": [\n          \"irregular\",\n          \"regular\"\n        ],\n        \"semantic_type\": \"\",\n        \"description\": \"\"\n      }\n    },\n    {\n      \"column\": \"exercise-habits \",\n      \"properties\": {\n        \"dtype\": \"string\",\n        \"num_unique_values\": 3,\n        \"samples\": [\n          \"active\",\n          \"mid\"\n        ],\n        \"semantic_type\": \"\",\n        \"description\": \"\"\n      }\n    },\n    {\n      \"column\": \"blood-pressure\",\n      \"properties\": {\n        \"dtype\": \"string\",\n        \"num_unique_values\": 6,\n        \"samples\": [\n          \"115/75\",\n          \"110/70\"\n        ],\n        \"semantic_type\": \"\",\n        \"description\": \"\"\n      }\n    },\n    {\n      \"column\": \"analog-fasting\",\n      \"properties\": {\n        \"dtype\": \"number\",\n        \"std\": 7,\n        \"min\": 309,\n        \"max\": 328,\n        \"num_unique_values\": 6,\n        \"samples\": [\n          310,\n          313\n        ],\n        \"semantic_type\": \"\",\n        \"description\": \"\"\n      }\n    },\n    {\n      \"column\": \"analog-pp\",\n      \"properties\": {\n        \"dtype\": \"number\",\n        \"std\": 7,\n        \"min\": 312,\n        \"max\": 333,\n        \"num_unique_values\": 5,\n        \"samples\": [\n          319,\n          333\n        ],\n        \"semantic_type\": \"\",\n        \"description\": \"\"\n      }\n    },\n    {\n      \"column\": \"glucose-fasting\",\n      \"properties\": {\n        \"dtype\": \"number\",\n        \"std\": 14,\n        \"min\": 93,\n        \"max\": 130,\n        \"num_unique_values\": 6,\n        \"samples\": [\n          93,\n          108\n        ],\n        \"semantic_type\": \"\",\n        \"description\": \"\"\n      }\n    },\n    {\n      \"column\": \"glucose-pp\",\n      \"properties\": {\n        \"dtype\": \"number\",\n        \"std\": 16,\n        \"min\": 105,\n        \"max\": 150,\n        \"num_unique_values\": 5,\n        \"samples\": [\n          105,\n          150\n        ],\n        \"semantic_type\": \"\",\n        \"description\": \"\"\n      }\n    },\n    {\n      \"column\": \"diabetic\",\n      \"properties\": {\n        \"dtype\": \"category\",\n        \"num_unique_values\": 2,\n        \"samples\": [\n          \"yes\",\n          \"no\"\n        ],\n        \"semantic_type\": \"\",\n        \"description\": \"\"\n      }\n    },\n    {\n      \"column\": \"Unnamed: 11\",\n      \"properties\": {\n        \"dtype\": \"string\",\n        \"num_unique_values\": 6,\n        \"samples\": [\n          \"simrans sister\",\n          \"simran \"\n        ],\n        \"semantic_type\": \"\",\n        \"description\": \"\"\n      }\n    }\n  ]\n}"
            }
          },
          "metadata": {},
          "execution_count": 146
        }
      ]
    },
    {
      "cell_type": "markdown",
      "source": [
        "# Removing the last column which has the name of the person data is collected from"
      ],
      "metadata": {
        "id": "FCcWRhr_0vbT"
      }
    },
    {
      "cell_type": "code",
      "source": [
        "\n",
        "df.drop(columns=['Unnamed: 11'], inplace=True)\n"
      ],
      "metadata": {
        "id": "gadtpqjmxQh_"
      },
      "execution_count": 147,
      "outputs": []
    },
    {
      "cell_type": "code",
      "source": [
        "df.dtypes"
      ],
      "metadata": {
        "colab": {
          "base_uri": "https://localhost:8080/"
        },
        "id": "NHN3-zsXzgD3",
        "outputId": "d991d772-e4ca-4890-9aa8-96b2fca98922"
      },
      "execution_count": 148,
      "outputs": [
        {
          "output_type": "execute_result",
          "data": {
            "text/plain": [
              "age                   int64\n",
              "gender               object\n",
              "weight                int64\n",
              "sleeping-patterns    object\n",
              "exercise-habits      object\n",
              "blood-pressure       object\n",
              "analog-fasting        int64\n",
              "analog-pp             int64\n",
              "glucose-fasting       int64\n",
              "glucose-pp            int64\n",
              "diabetic             object\n",
              "dtype: object"
            ]
          },
          "metadata": {},
          "execution_count": 148
        }
      ]
    },
    {
      "cell_type": "markdown",
      "source": [
        "# creating systolic/diastolic as 2 fields:"
      ],
      "metadata": {
        "id": "0D3iKPin6BUu"
      }
    },
    {
      "cell_type": "code",
      "source": [
        "import pandas as pd\n",
        "\n",
        "# Splitting the 'blood-pressure' column into two separate columns\n",
        "df[['systolic', 'diastolic']] = df['blood-pressure'].str.split('/', expand=True)\n",
        "\n",
        "# Dropping the original 'blood-pressure' column\n",
        "df.drop(columns=['blood-pressure'], inplace=True)\n",
        "\n",
        "# Displaying the updated DataFrame\n",
        "print(df)\n"
      ],
      "metadata": {
        "colab": {
          "base_uri": "https://localhost:8080/"
        },
        "id": "ArKu2mwL6A15",
        "outputId": "0a66b099-aa4c-4949-b92e-811d529e1663"
      },
      "execution_count": 149,
      "outputs": [
        {
          "output_type": "stream",
          "name": "stdout",
          "text": [
            "   age gender   weight sleeping-patterns exercise-habits   analog-fasting  \\\n",
            "0   22       F      60           regular           active             310   \n",
            "1   21       F      51           regular              mid             313   \n",
            "2   21       F      53           regular         inactive             309   \n",
            "3   21       F      65           regular         inactive             311   \n",
            "4   20       F      70         irregular         inactive             314   \n",
            "5   30       M      89         irregular         inactive             328   \n",
            "\n",
            "   analog-pp  glucose-fasting  glucose-pp diabetic systolic diastolic  \n",
            "0        315               93         110       no      115        75  \n",
            "1        319              108         105       no      110        70  \n",
            "2        317              130         120       no      120        80  \n",
            "3        312              115         115       no      125        80  \n",
            "4        317              106         110       no      130        85  \n",
            "5        333              128         150      yes      140        90  \n"
          ]
        }
      ]
    },
    {
      "cell_type": "code",
      "source": [
        "df.dtypes"
      ],
      "metadata": {
        "colab": {
          "base_uri": "https://localhost:8080/"
        },
        "id": "Bn6mfsT68Cuj",
        "outputId": "3f2e810f-91f4-4599-c019-6c20632b6e80"
      },
      "execution_count": 150,
      "outputs": [
        {
          "output_type": "execute_result",
          "data": {
            "text/plain": [
              "age                   int64\n",
              "gender               object\n",
              "weight                int64\n",
              "sleeping-patterns    object\n",
              "exercise-habits      object\n",
              "analog-fasting        int64\n",
              "analog-pp             int64\n",
              "glucose-fasting       int64\n",
              "glucose-pp            int64\n",
              "diabetic             object\n",
              "systolic             object\n",
              "diastolic            object\n",
              "dtype: object"
            ]
          },
          "metadata": {},
          "execution_count": 150
        }
      ]
    },
    {
      "cell_type": "markdown",
      "source": [
        "# the 2 bp fields are being treated as objected, which means if label encoding is applied to all fields, these fields will be encoded too."
      ],
      "metadata": {
        "id": "IfSfYH_78bdK"
      }
    },
    {
      "cell_type": "markdown",
      "source": [
        "# Thus converting them to int types:"
      ],
      "metadata": {
        "id": "_tKKcBUz8lTX"
      }
    },
    {
      "cell_type": "code",
      "source": [
        "df['systolic'] = df['systolic'].astype(int)\n",
        "df['diastolic'] = df['diastolic'].astype(int)\n",
        "df.dtypes"
      ],
      "metadata": {
        "colab": {
          "base_uri": "https://localhost:8080/"
        },
        "id": "1JdFSP0o8oXa",
        "outputId": "6b442f14-9baa-449b-b569-c78fec2efcfb"
      },
      "execution_count": 151,
      "outputs": [
        {
          "output_type": "execute_result",
          "data": {
            "text/plain": [
              "age                   int64\n",
              "gender               object\n",
              "weight                int64\n",
              "sleeping-patterns    object\n",
              "exercise-habits      object\n",
              "analog-fasting        int64\n",
              "analog-pp             int64\n",
              "glucose-fasting       int64\n",
              "glucose-pp            int64\n",
              "diabetic             object\n",
              "systolic              int64\n",
              "diastolic             int64\n",
              "dtype: object"
            ]
          },
          "metadata": {},
          "execution_count": 151
        }
      ]
    },
    {
      "cell_type": "markdown",
      "source": [
        "# Encoding the object (string) values to be numerical:\n",
        "\n",
        "\n"
      ],
      "metadata": {
        "id": "32SaUjrU7ban"
      }
    },
    {
      "cell_type": "code",
      "source": [
        "\n",
        "# encoding the object datatypes using labelencoder\n",
        "from sklearn.preprocessing import LabelEncoder\n",
        "\n",
        "\n",
        "# Before encoding\n",
        "print(\"Before Encoding:\")\n",
        "print(\"_____________________________________________________________________________________\")\n",
        "print(df.head(6))\n",
        "\n",
        "# Encoding\n",
        "label_encoder = LabelEncoder()\n",
        "for column in df.columns:\n",
        "    if df[column].dtype == 'object':\n",
        "        df[column] = label_encoder.fit_transform(df[column])\n",
        "\n",
        "# After encoding\n",
        "print(\"\\nAfter Encoding:\")\n",
        "print(\"_____________________________________________________________________________________\")\n",
        "print(df.head(6))"
      ],
      "metadata": {
        "colab": {
          "base_uri": "https://localhost:8080/"
        },
        "id": "Y1jgahXH3Tls",
        "outputId": "47040226-44a5-445c-bebf-5d410ce72bc5"
      },
      "execution_count": 152,
      "outputs": [
        {
          "output_type": "stream",
          "name": "stdout",
          "text": [
            "Before Encoding:\n",
            "_____________________________________________________________________________________\n",
            "   age gender   weight sleeping-patterns exercise-habits   analog-fasting  \\\n",
            "0   22       F      60           regular           active             310   \n",
            "1   21       F      51           regular              mid             313   \n",
            "2   21       F      53           regular         inactive             309   \n",
            "3   21       F      65           regular         inactive             311   \n",
            "4   20       F      70         irregular         inactive             314   \n",
            "5   30       M      89         irregular         inactive             328   \n",
            "\n",
            "   analog-pp  glucose-fasting  glucose-pp diabetic  systolic  diastolic  \n",
            "0        315               93         110       no       115         75  \n",
            "1        319              108         105       no       110         70  \n",
            "2        317              130         120       no       120         80  \n",
            "3        312              115         115       no       125         80  \n",
            "4        317              106         110       no       130         85  \n",
            "5        333              128         150      yes       140         90  \n",
            "\n",
            "After Encoding:\n",
            "_____________________________________________________________________________________\n",
            "   age  gender   weight  sleeping-patterns  exercise-habits   analog-fasting  \\\n",
            "0   22        0      60                  1                 0             310   \n",
            "1   21        0      51                  1                 2             313   \n",
            "2   21        0      53                  1                 1             309   \n",
            "3   21        0      65                  1                 1             311   \n",
            "4   20        0      70                  0                 1             314   \n",
            "5   30        1      89                  0                 1             328   \n",
            "\n",
            "   analog-pp  glucose-fasting  glucose-pp  diabetic  systolic  diastolic  \n",
            "0        315               93         110         0       115         75  \n",
            "1        319              108         105         0       110         70  \n",
            "2        317              130         120         0       120         80  \n",
            "3        312              115         115         0       125         80  \n",
            "4        317              106         110         0       130         85  \n",
            "5        333              128         150         1       140         90  \n"
          ]
        }
      ]
    },
    {
      "cell_type": "markdown",
      "source": [
        "\n",
        "\n",
        "---\n",
        "\n",
        "\n",
        "male: 1\n",
        "\n",
        "female: 0\n",
        "\n",
        "\n",
        "---\n",
        "\n",
        "\n",
        "regular: 1\n",
        "\n",
        "irregular: 0\n",
        "\n",
        "\n",
        "---\n",
        "\n",
        "\n",
        "active: 0\n",
        "\n",
        "mid:2\n",
        "\n",
        "inactive: 1\n",
        "\n",
        "\n",
        "---\n",
        "\n",
        "\n",
        "not diabetic: 0\n",
        "\n",
        "diabetic: 1\n",
        "\n",
        "\n",
        "\n",
        "---\n",
        "\n",
        "\n"
      ],
      "metadata": {
        "id": "40dD4nzM494M"
      }
    },
    {
      "cell_type": "code",
      "source": [
        "df.isnull().sum()"
      ],
      "metadata": {
        "colab": {
          "base_uri": "https://localhost:8080/"
        },
        "id": "mZnV1n4O0b8O",
        "outputId": "5c5295f0-8205-414d-d081-bfa5ac7fd17b"
      },
      "execution_count": 153,
      "outputs": [
        {
          "output_type": "execute_result",
          "data": {
            "text/plain": [
              "age                  0\n",
              "gender               0\n",
              "weight               0\n",
              "sleeping-patterns    0\n",
              "exercise-habits      0\n",
              "analog-fasting       0\n",
              "analog-pp            0\n",
              "glucose-fasting      0\n",
              "glucose-pp           0\n",
              "diabetic             0\n",
              "systolic             0\n",
              "diastolic            0\n",
              "dtype: int64"
            ]
          },
          "metadata": {},
          "execution_count": 153
        }
      ]
    },
    {
      "cell_type": "code",
      "source": [
        "# split\n",
        "X=df.drop(columns=['diabetic'])\n",
        "y=df['diabetic']\n",
        "\n",
        "print(\"input features: \"+str(X.columns.tolist()))\n",
        "print(\"----------\")\n",
        "print(\"output feature: \"+y.name)"
      ],
      "metadata": {
        "id": "421kB39Wy42M",
        "colab": {
          "base_uri": "https://localhost:8080/"
        },
        "outputId": "b917f153-0214-444b-a698-32840bf29761"
      },
      "execution_count": 154,
      "outputs": [
        {
          "output_type": "stream",
          "name": "stdout",
          "text": [
            "input features: ['age', 'gender ', 'weight', 'sleeping-patterns', 'exercise-habits ', 'analog-fasting', 'analog-pp', 'glucose-fasting', 'glucose-pp', 'systolic', 'diastolic']\n",
            "----------\n",
            "output feature: diabetic\n"
          ]
        }
      ]
    },
    {
      "cell_type": "markdown",
      "source": [
        "# Decision Tree"
      ],
      "metadata": {
        "id": "IPFEFAwayjKn"
      }
    },
    {
      "cell_type": "code",
      "source": [
        "from sklearn.model_selection import train_test_split\n",
        "from sklearn.tree import DecisionTreeClassifier\n",
        "from sklearn.metrics import accuracy_score\n",
        "\n",
        "# Split the dataset into training and testing sets\n",
        "X_train, X_test, y_train, y_test = train_test_split(X, y, test_size=0.2, random_state=42)\n",
        "\n",
        "# Initialize the Decision Tree Classifier\n",
        "clf = DecisionTreeClassifier()\n",
        "\n",
        "# Train the classifier\n",
        "clf.fit(X_train, y_train)\n",
        "\n",
        "# Make predictions on the test data\n",
        "y_pred = clf.predict(X_test)\n",
        "\n",
        "# Calculate accuracy\n",
        "accuracy = accuracy_score(y_test, y_pred)\n",
        "print(\"Accuracy:\", accuracy)\n",
        "\n",
        "print(X_test)\n"
      ],
      "metadata": {
        "colab": {
          "base_uri": "https://localhost:8080/"
        },
        "id": "DEG1l280zMQH",
        "outputId": "bb9082e2-1dd0-4fba-eff2-de18351b18dd"
      },
      "execution_count": 155,
      "outputs": [
        {
          "output_type": "stream",
          "name": "stdout",
          "text": [
            "Accuracy: 1.0\n",
            "   age  gender   weight  sleeping-patterns  exercise-habits   analog-fasting  \\\n",
            "0   22        0      60                  1                 0             310   \n",
            "1   21        0      51                  1                 2             313   \n",
            "\n",
            "   analog-pp  glucose-fasting  glucose-pp  systolic  diastolic  \n",
            "0        315               93         110       115         75  \n",
            "1        319              108         105       110         70  \n"
          ]
        }
      ]
    },
    {
      "cell_type": "code",
      "source": [
        "# input_query = [[25, 0, 70, 1, 1, 300, 310, 100, 105, 120, 80]]\n",
        "input_query = [[30, 1, 89, 0, 0, 328, 333, 128, 150, 140, 90,]]\n",
        "# Make prediction on the input query\n",
        "prediction = clf.predict(input_query)\n",
        "print(\"Prediction:\", prediction)\n",
        "prediction_label = \"diabetic\" if prediction[0] == 1 else \"non-diabetic\"\n",
        "\n",
        "# Print prediction\n",
        "print(\"Prediction:\", prediction_label)\n",
        "# (This can be verified as this is the tuple number 6 in our dataset.)"
      ],
      "metadata": {
        "colab": {
          "base_uri": "https://localhost:8080/"
        },
        "id": "q40xjL9x9U72",
        "outputId": "d37a9078-5ab0-4d5f-b22b-5d53ea8e520f"
      },
      "execution_count": 156,
      "outputs": [
        {
          "output_type": "stream",
          "name": "stdout",
          "text": [
            "Prediction: [1]\n",
            "Prediction: diabetic\n"
          ]
        },
        {
          "output_type": "stream",
          "name": "stderr",
          "text": [
            "/usr/local/lib/python3.10/dist-packages/sklearn/base.py:439: UserWarning: X does not have valid feature names, but DecisionTreeClassifier was fitted with feature names\n",
            "  warnings.warn(\n"
          ]
        }
      ]
    },
    {
      "cell_type": "markdown",
      "source": [
        "# Feature importance plot for decision tree"
      ],
      "metadata": {
        "id": "1NjrjEin1GPf"
      }
    },
    {
      "cell_type": "code",
      "source": [
        "import matplotlib.pyplot as plt\n",
        "import numpy as np\n",
        "\n",
        "feature_names=df.columns.tolist()\n",
        "# Get feature importances\n",
        "importances = clf.feature_importances_\n",
        "indices = np.argsort(importances)[::-1]\n",
        "\n",
        "# Plot the feature importances\n",
        "plt.figure(figsize=(10,5))\n",
        "plt.title(\"Feature importances\")\n",
        "plt.bar(range(X.shape[1]), importances[indices], color=\"b\", align=\"center\")\n",
        "plt.xticks(range(X.shape[1]), [feature_names[i] for i in indices])\n",
        "plt.xlim([-1, X.shape[1]])\n",
        "plt.show()"
      ],
      "metadata": {
        "colab": {
          "base_uri": "https://localhost:8080/",
          "height": 468
        },
        "id": "n6k-e7iA0q9V",
        "outputId": "07cfa8df-65af-4ef4-b15e-0271bf6972d3"
      },
      "execution_count": 157,
      "outputs": [
        {
          "output_type": "display_data",
          "data": {
            "text/plain": [
              "<Figure size 1000x500 with 1 Axes>"
            ],
            "image/png": "[encoded data removed]"
          },
          "metadata": {}
        }
      ]
    },
    {
      "cell_type": "markdown",
      "source": [
        "# Random forest"
      ],
      "metadata": {
        "id": "mRpdM-fK9Ufb"
      }
    },
    {
      "cell_type": "code",
      "source": [
        "from sklearn.ensemble import RandomForestClassifier\n",
        "import matplotlib.pyplot as plt\n",
        "\n",
        "# Initialize Random Forest Classifier\n",
        "rf_classifier = RandomForestClassifier(n_estimators=100, random_state=42)\n",
        "\n",
        "# Train the classifier\n",
        "rf_classifier.fit(X_train, y_train)\n",
        "\n",
        "# Get feature importances\n",
        "importances = rf_classifier.feature_importances_\n",
        "indices = np.argsort(importances)[::-1]\n",
        "\n",
        "# Plot the feature importances\n",
        "plt.figure(figsize=(10,5))\n",
        "plt.title(\"Feature Importances\")\n",
        "plt.bar(range(X_train.shape[1]), importances[indices], color=\"b\", align=\"center\")\n",
        "plt.xticks(range(X_train.shape[1]), [df.columns[i] for i in indices], rotation=90)\n",
        "plt.xlim([-1, X_train.shape[1]])\n",
        "plt.xlabel('Features')\n",
        "plt.ylabel('Importance')\n",
        "plt.show()\n"
      ],
      "metadata": {
        "colab": {
          "base_uri": "https://localhost:8080/",
          "height": 595
        },
        "id": "dwwzJmzm9UG2",
        "outputId": "1b30508e-e7c6-4067-9860-f94725e814c5"
      },
      "execution_count": 158,
      "outputs": [
        {
          "output_type": "display_data",
          "data": {
            "text/plain": [
              "<Figure size 1000x500 with 1 Axes>"
            ],
            "image/png": "[encoded data removed]"
          },
          "metadata": {}
        }
      ]
    },
    {
      "cell_type": "code",
      "source": [
        "from sklearn.metrics import accuracy_score\n",
        "\n",
        "# Predict on the test set\n",
        "y_pred = rf_classifier.predict(X_test)\n",
        "\n",
        "# Calculate accuracy\n",
        "accuracy = accuracy_score(y_test, y_pred)\n",
        "print(\"Accuracy:\", accuracy)\n",
        "\n",
        "# Assuming you have a new data point in the same format as your training data\n",
        "new_data_point = [[30, 1, 89, 0, 0, 140, 90, 328, 333, 128, 150]]\n",
        "\n",
        "# Make predictions\n",
        "prediction = rf_classifier.predict(new_data_point)\n",
        "\n",
        "# Map prediction to label\n",
        "prediction_label = \"diabetic\" if prediction == 1.0 else \"non-diabetic\"\n",
        "print(prediction)\n",
        "print(\"Predicted diabetic status:\", prediction_label)\n"
      ],
      "metadata": {
        "colab": {
          "base_uri": "https://localhost:8080/"
        },
        "id": "p9an7d1O9047",
        "outputId": "a5bdf0bd-c7ec-48bb-d3a1-c6635c9d786c"
      },
      "execution_count": 159,
      "outputs": [
        {
          "output_type": "stream",
          "name": "stdout",
          "text": [
            "Accuracy: 1.0\n",
            "[1]\n",
            "Predicted diabetic status: diabetic\n"
          ]
        },
        {
          "output_type": "stream",
          "name": "stderr",
          "text": [
            "/usr/local/lib/python3.10/dist-packages/sklearn/base.py:439: UserWarning: X does not have valid feature names, but RandomForestClassifier was fitted with feature names\n",
            "  warnings.warn(\n"
          ]
        }
      ]
    }
  ]
}